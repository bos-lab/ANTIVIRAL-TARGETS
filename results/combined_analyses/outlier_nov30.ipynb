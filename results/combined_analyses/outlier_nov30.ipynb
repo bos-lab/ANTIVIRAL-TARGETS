{
 "cells": [
  {
   "cell_type": "code",
   "execution_count": 1,
   "metadata": {},
   "outputs": [],
   "source": [
    "import pandas as pd # for most table operaions\n",
    "import glob # for getting list of all files in a folder\n",
    "import os\n",
    "import seaborn as sns\n"
   ]
  },
  {
   "cell_type": "code",
   "execution_count": 3,
   "metadata": {},
   "outputs": [
    {
     "data": {
      "text/plain": [
       "(37913, 168)"
      ]
     },
     "execution_count": 3,
     "metadata": {},
     "output_type": "execute_result"
    }
   ],
   "source": [
    "# A PRJNA776746_df.merge(PRJNA791847_df, how=\"outer\", left_index=True, right_index=True)\n",
    "\n",
    "all_df = pd.read_csv(\"Nov10_df_tpm_only.tsv\", sep=\"\\t\")\n",
    "all_df.index = all_df['id']\n",
    "all_df.shape"
   ]
  },
  {
   "cell_type": "code",
   "execution_count": 14,
   "metadata": {},
   "outputs": [
    {
     "data": {
      "text/html": [
       "<div>\n",
       "<style scoped>\n",
       "    .dataframe tbody tr th:only-of-type {\n",
       "        vertical-align: middle;\n",
       "    }\n",
       "\n",
       "    .dataframe tbody tr th {\n",
       "        vertical-align: top;\n",
       "    }\n",
       "\n",
       "    .dataframe thead th {\n",
       "        text-align: right;\n",
       "    }\n",
       "</style>\n",
       "<table border=\"1\" class=\"dataframe\">\n",
       "  <thead>\n",
       "    <tr style=\"text-align: right;\">\n",
       "      <th></th>\n",
       "      <th>id</th>\n",
       "      <th>SRR16676552</th>\n",
       "      <th>SRR16676470</th>\n",
       "      <th>SRR16676555</th>\n",
       "      <th>SRR16676500</th>\n",
       "      <th>SRR16676477</th>\n",
       "      <th>SRR16676488</th>\n",
       "      <th>SRR16676462</th>\n",
       "      <th>SRR16676540</th>\n",
       "      <th>SRR16676515</th>\n",
       "      <th>...</th>\n",
       "      <th>SRR19663496</th>\n",
       "      <th>SRR19663484</th>\n",
       "      <th>SRR19663483</th>\n",
       "      <th>SRR19663488</th>\n",
       "      <th>SRR19663500</th>\n",
       "      <th>SRR19663498</th>\n",
       "      <th>SRR19663499</th>\n",
       "      <th>SRR19663486</th>\n",
       "      <th>SRR19663487</th>\n",
       "      <th>SRR19663495</th>\n",
       "    </tr>\n",
       "  </thead>\n",
       "  <tbody>\n",
       "    <tr>\n",
       "      <th>12158</th>\n",
       "      <td>ENSG00000202198</td>\n",
       "      <td>397767.949</td>\n",
       "      <td>344573.196</td>\n",
       "      <td>445776.392</td>\n",
       "      <td>420468.799</td>\n",
       "      <td>315989.897</td>\n",
       "      <td>381527.152</td>\n",
       "      <td>410810.226</td>\n",
       "      <td>428781.661</td>\n",
       "      <td>104707.784</td>\n",
       "      <td>...</td>\n",
       "      <td>7.401</td>\n",
       "      <td>3.844</td>\n",
       "      <td>3.310</td>\n",
       "      <td>5.536</td>\n",
       "      <td>5.243</td>\n",
       "      <td>5.925</td>\n",
       "      <td>9.684</td>\n",
       "      <td>7.017</td>\n",
       "      <td>4.943</td>\n",
       "      <td>4.203</td>\n",
       "    </tr>\n",
       "    <tr>\n",
       "      <th>34156</th>\n",
       "      <td>ENSG00000087086</td>\n",
       "      <td>1070.092</td>\n",
       "      <td>1664.346</td>\n",
       "      <td>1212.495</td>\n",
       "      <td>789.888</td>\n",
       "      <td>1191.224</td>\n",
       "      <td>1157.211</td>\n",
       "      <td>1028.950</td>\n",
       "      <td>1222.495</td>\n",
       "      <td>622.127</td>\n",
       "      <td>...</td>\n",
       "      <td>177815.528</td>\n",
       "      <td>121516.481</td>\n",
       "      <td>122416.216</td>\n",
       "      <td>166829.306</td>\n",
       "      <td>196661.101</td>\n",
       "      <td>213047.169</td>\n",
       "      <td>199781.677</td>\n",
       "      <td>155736.989</td>\n",
       "      <td>153799.778</td>\n",
       "      <td>184624.367</td>\n",
       "    </tr>\n",
       "    <tr>\n",
       "      <th>36241</th>\n",
       "      <td>ENSG00000198938</td>\n",
       "      <td>36678.173</td>\n",
       "      <td>30769.348</td>\n",
       "      <td>28762.495</td>\n",
       "      <td>15918.154</td>\n",
       "      <td>24420.813</td>\n",
       "      <td>31024.976</td>\n",
       "      <td>25575.622</td>\n",
       "      <td>27322.642</td>\n",
       "      <td>115123.844</td>\n",
       "      <td>...</td>\n",
       "      <td>8914.591</td>\n",
       "      <td>10530.403</td>\n",
       "      <td>9826.286</td>\n",
       "      <td>8631.579</td>\n",
       "      <td>8541.236</td>\n",
       "      <td>7478.288</td>\n",
       "      <td>9524.826</td>\n",
       "      <td>9237.762</td>\n",
       "      <td>10308.553</td>\n",
       "      <td>8445.490</td>\n",
       "    </tr>\n",
       "    <tr>\n",
       "      <th>36308</th>\n",
       "      <td>ENSG00000277048</td>\n",
       "      <td>6546.625</td>\n",
       "      <td>22393.642</td>\n",
       "      <td>7690.476</td>\n",
       "      <td>13952.354</td>\n",
       "      <td>133623.287</td>\n",
       "      <td>13022.102</td>\n",
       "      <td>11160.140</td>\n",
       "      <td>14022.444</td>\n",
       "      <td>1434.297</td>\n",
       "      <td>...</td>\n",
       "      <td>533.311</td>\n",
       "      <td>589.285</td>\n",
       "      <td>657.462</td>\n",
       "      <td>636.562</td>\n",
       "      <td>2426.161</td>\n",
       "      <td>552.571</td>\n",
       "      <td>441.835</td>\n",
       "      <td>559.186</td>\n",
       "      <td>530.094</td>\n",
       "      <td>707.794</td>\n",
       "    </tr>\n",
       "    <tr>\n",
       "      <th>36316</th>\n",
       "      <td>ENSG00000274224</td>\n",
       "      <td>1.534</td>\n",
       "      <td>175.997</td>\n",
       "      <td>320.145</td>\n",
       "      <td>5.985</td>\n",
       "      <td>83.756</td>\n",
       "      <td>8.652</td>\n",
       "      <td>0.000</td>\n",
       "      <td>965.916</td>\n",
       "      <td>0.000</td>\n",
       "      <td>...</td>\n",
       "      <td>0.000</td>\n",
       "      <td>0.000</td>\n",
       "      <td>2.236</td>\n",
       "      <td>4.986</td>\n",
       "      <td>8.854</td>\n",
       "      <td>7.064</td>\n",
       "      <td>4.672</td>\n",
       "      <td>0.000</td>\n",
       "      <td>2.226</td>\n",
       "      <td>123.890</td>\n",
       "    </tr>\n",
       "  </tbody>\n",
       "</table>\n",
       "<p>5 rows × 168 columns</p>\n",
       "</div>"
      ],
      "text/plain": [
       "                    id  SRR16676552  SRR16676470  SRR16676555  SRR16676500  \\\n",
       "12158  ENSG00000202198   397767.949   344573.196   445776.392   420468.799   \n",
       "34156  ENSG00000087086     1070.092     1664.346     1212.495      789.888   \n",
       "36241  ENSG00000198938    36678.173    30769.348    28762.495    15918.154   \n",
       "36308  ENSG00000277048     6546.625    22393.642     7690.476    13952.354   \n",
       "36316  ENSG00000274224        1.534      175.997      320.145        5.985   \n",
       "\n",
       "       SRR16676477  SRR16676488  SRR16676462  SRR16676540  SRR16676515  ...  \\\n",
       "12158   315989.897   381527.152   410810.226   428781.661   104707.784  ...   \n",
       "34156     1191.224     1157.211     1028.950     1222.495      622.127  ...   \n",
       "36241    24420.813    31024.976    25575.622    27322.642   115123.844  ...   \n",
       "36308   133623.287    13022.102    11160.140    14022.444     1434.297  ...   \n",
       "36316       83.756        8.652        0.000      965.916        0.000  ...   \n",
       "\n",
       "       SRR19663496  SRR19663484  SRR19663483  SRR19663488  SRR19663500  \\\n",
       "12158        7.401        3.844        3.310        5.536        5.243   \n",
       "34156   177815.528   121516.481   122416.216   166829.306   196661.101   \n",
       "36241     8914.591    10530.403     9826.286     8631.579     8541.236   \n",
       "36308      533.311      589.285      657.462      636.562     2426.161   \n",
       "36316        0.000        0.000        2.236        4.986        8.854   \n",
       "\n",
       "       SRR19663498  SRR19663499  SRR19663486  SRR19663487  SRR19663495  \n",
       "12158        5.925        9.684        7.017        4.943        4.203  \n",
       "34156   213047.169   199781.677   155736.989   153799.778   184624.367  \n",
       "36241     7478.288     9524.826     9237.762    10308.553     8445.490  \n",
       "36308      552.571      441.835      559.186      530.094      707.794  \n",
       "36316        7.064        4.672        0.000        2.226      123.890  \n",
       "\n",
       "[5 rows x 168 columns]"
      ]
     },
     "execution_count": 14,
     "metadata": {},
     "output_type": "execute_result"
    }
   ],
   "source": [
    "outg = all_df[all_df['id'].isin([\"ENSG00000202198\", \"ENSG00000087086\",\"ENSG00000198938\",\n",
    "\"ENSG00000277048\",\"ENSG00000274224\"])] # outlier genes\n",
    "# outg.iloc[: ,1:]\n",
    "# sns.heatmap(outg)\n",
    "outg"
   ]
  },
  {
   "cell_type": "code",
   "execution_count": 13,
   "metadata": {},
   "outputs": [
    {
     "data": {
      "text/plain": [
       "<AxesSubplot: >"
      ]
     },
     "execution_count": 13,
     "metadata": {},
     "output_type": "execute_result"
    },
    {
     "data": {
      "image/png": "[encoded data removed]",
      "text/plain": [
       "<Figure size 640x480 with 2 Axes>"
      ]
     },
     "metadata": {},
     "output_type": "display_data"
    }
   ],
   "source": [
    "sns.heatmap(outg.iloc[: ,1:])"
   ]
  },
  {
   "cell_type": "code",
   "execution_count": null,
   "metadata": {},
   "outputs": [],
   "source": [
    "outg.iloc[: ,1:]"
   ]
  }
 ],
 "metadata": {
  "kernelspec": {
   "display_name": "Python 3.11.0 ('metaT')",
   "language": "python",
   "name": "python3"
  },
  "language_info": {
   "codemirror_mode": {
    "name": "ipython",
    "version": 3
   },
   "file_extension": ".py",
   "mimetype": "text/x-python",
   "name": "python",
   "nbconvert_exporter": "python",
   "pygments_lexer": "ipython3",
   "version": "3.11.0"
  },
  "orig_nbformat": 4,
  "vscode": {
   "interpreter": {
    "hash": "ce81aab6d5b4c0b796f5cf9dcd13b3e203c8c67c59eb6ba559d7aee0bfa917b9"
   }
  }
 },
 "nbformat": 4,
 "nbformat_minor": 2
}
